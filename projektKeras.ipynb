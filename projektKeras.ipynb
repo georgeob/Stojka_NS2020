{
 "cells": [
  {
   "cell_type": "markdown",
   "metadata": {},
   "source": [
    "# 1. DNN s použitím Sequential modelu cez TensorFlow API\n"
   ]
  },
  {
   "cell_type": "code",
   "execution_count": 1,
   "metadata": {},
   "outputs": [],
   "source": [
    "import tensorflow as tf \n",
    "from tensorflow import keras\n",
    "from sklearn import preprocessing, model_selection\n",
    "import numpy as np \n",
    "import pandas as pd \n"
   ]
  },
  {
   "cell_type": "markdown",
   "metadata": {},
   "source": [
    "### načítanie CSV datasetu do dataframe"
   ]
  },
  {
   "cell_type": "code",
   "execution_count": 2,
   "metadata": {},
   "outputs": [
    {
     "data": {
      "text/html": [
       "<div>\n",
       "<style scoped>\n",
       "    .dataframe tbody tr th:only-of-type {\n",
       "        vertical-align: middle;\n",
       "    }\n",
       "\n",
       "    .dataframe tbody tr th {\n",
       "        vertical-align: top;\n",
       "    }\n",
       "\n",
       "    .dataframe thead th {\n",
       "        text-align: right;\n",
       "    }\n",
       "</style>\n",
       "<table border=\"1\" class=\"dataframe\">\n",
       "  <thead>\n",
       "    <tr style=\"text-align: right;\">\n",
       "      <th></th>\n",
       "      <th>#</th>\n",
       "      <th>title</th>\n",
       "      <th>user_rating</th>\n",
       "      <th>critic_rating</th>\n",
       "      <th>platform</th>\n",
       "    </tr>\n",
       "  </thead>\n",
       "  <tbody>\n",
       "    <tr>\n",
       "      <th>0</th>\n",
       "      <td>0</td>\n",
       "      <td>beat saber</td>\n",
       "      <td>76.0</td>\n",
       "      <td>93</td>\n",
       "      <td>0</td>\n",
       "    </tr>\n",
       "    <tr>\n",
       "      <th>1</th>\n",
       "      <td>1</td>\n",
       "      <td>red dead redemption 2</td>\n",
       "      <td>48.0</td>\n",
       "      <td>93</td>\n",
       "      <td>0</td>\n",
       "    </tr>\n",
       "    <tr>\n",
       "      <th>2</th>\n",
       "      <td>2</td>\n",
       "      <td>final fantasy xiv: shadowbringers</td>\n",
       "      <td>90.0</td>\n",
       "      <td>91</td>\n",
       "      <td>0</td>\n",
       "    </tr>\n",
       "    <tr>\n",
       "      <th>3</th>\n",
       "      <td>3</td>\n",
       "      <td>disco elysium</td>\n",
       "      <td>83.0</td>\n",
       "      <td>91</td>\n",
       "      <td>0</td>\n",
       "    </tr>\n",
       "    <tr>\n",
       "      <th>4</th>\n",
       "      <td>4</td>\n",
       "      <td>tetris effect</td>\n",
       "      <td>67.0</td>\n",
       "      <td>90</td>\n",
       "      <td>0</td>\n",
       "    </tr>\n",
       "  </tbody>\n",
       "</table>\n",
       "</div>"
      ],
      "text/plain": [
       "   #                              title  user_rating  critic_rating  platform\n",
       "0  0                         beat saber         76.0             93         0\n",
       "1  1              red dead redemption 2         48.0             93         0\n",
       "2  2  final fantasy xiv: shadowbringers         90.0             91         0\n",
       "3  3                      disco elysium         83.0             91         0\n",
       "4  4                      tetris effect         67.0             90         0"
      ]
     },
     "execution_count": 2,
     "metadata": {},
     "output_type": "execute_result"
    }
   ],
   "source": [
    "df = pd.read_csv('beta.csv')\n",
    "df.head()\n"
   ]
  },
  {
   "cell_type": "code",
   "execution_count": 3,
   "metadata": {},
   "outputs": [
    {
     "data": {
      "text/html": [
       "<div>\n",
       "<style scoped>\n",
       "    .dataframe tbody tr th:only-of-type {\n",
       "        vertical-align: middle;\n",
       "    }\n",
       "\n",
       "    .dataframe tbody tr th {\n",
       "        vertical-align: top;\n",
       "    }\n",
       "\n",
       "    .dataframe thead th {\n",
       "        text-align: right;\n",
       "    }\n",
       "</style>\n",
       "<table border=\"1\" class=\"dataframe\">\n",
       "  <thead>\n",
       "    <tr style=\"text-align: right;\">\n",
       "      <th></th>\n",
       "      <th>#</th>\n",
       "      <th>title</th>\n",
       "      <th>user_rating</th>\n",
       "      <th>critic_rating</th>\n",
       "      <th>platform</th>\n",
       "    </tr>\n",
       "  </thead>\n",
       "  <tbody>\n",
       "    <tr>\n",
       "      <th>1182</th>\n",
       "      <td>236</td>\n",
       "      <td>the grand tour game</td>\n",
       "      <td>70.0</td>\n",
       "      <td>52</td>\n",
       "      <td>3</td>\n",
       "    </tr>\n",
       "    <tr>\n",
       "      <th>1183</th>\n",
       "      <td>240</td>\n",
       "      <td>generation zero</td>\n",
       "      <td>60.0</td>\n",
       "      <td>50</td>\n",
       "      <td>3</td>\n",
       "    </tr>\n",
       "    <tr>\n",
       "      <th>1184</th>\n",
       "      <td>244</td>\n",
       "      <td>power rangers: battle for the grid</td>\n",
       "      <td>60.0</td>\n",
       "      <td>48</td>\n",
       "      <td>3</td>\n",
       "    </tr>\n",
       "    <tr>\n",
       "      <th>1185</th>\n",
       "      <td>246</td>\n",
       "      <td>monster jam steel titans</td>\n",
       "      <td>40.0</td>\n",
       "      <td>47</td>\n",
       "      <td>3</td>\n",
       "    </tr>\n",
       "    <tr>\n",
       "      <th>1186</th>\n",
       "      <td>248</td>\n",
       "      <td>wwe 2k20</td>\n",
       "      <td>11.0</td>\n",
       "      <td>45</td>\n",
       "      <td>3</td>\n",
       "    </tr>\n",
       "  </tbody>\n",
       "</table>\n",
       "</div>"
      ],
      "text/plain": [
       "        #                               title  user_rating  critic_rating  \\\n",
       "1182  236                 the grand tour game         70.0             52   \n",
       "1183  240                     generation zero         60.0             50   \n",
       "1184  244  power rangers: battle for the grid         60.0             48   \n",
       "1185  246            monster jam steel titans         40.0             47   \n",
       "1186  248                            wwe 2k20         11.0             45   \n",
       "\n",
       "      platform  \n",
       "1182         3  \n",
       "1183         3  \n",
       "1184         3  \n",
       "1185         3  \n",
       "1186         3  "
      ]
     },
     "execution_count": 3,
     "metadata": {},
     "output_type": "execute_result"
    }
   ],
   "source": [
    "df.tail()\n"
   ]
  },
  {
   "cell_type": "markdown",
   "metadata": {},
   "source": [
    "### korelácia dát v datesete kvôli kontrole nadbytočných stĺpcov"
   ]
  },
  {
   "cell_type": "code",
   "execution_count": 4,
   "metadata": {},
   "outputs": [
    {
     "data": {
      "text/html": [
       "<div>\n",
       "<style scoped>\n",
       "    .dataframe tbody tr th:only-of-type {\n",
       "        vertical-align: middle;\n",
       "    }\n",
       "\n",
       "    .dataframe tbody tr th {\n",
       "        vertical-align: top;\n",
       "    }\n",
       "\n",
       "    .dataframe thead th {\n",
       "        text-align: right;\n",
       "    }\n",
       "</style>\n",
       "<table border=\"1\" class=\"dataframe\">\n",
       "  <thead>\n",
       "    <tr style=\"text-align: right;\">\n",
       "      <th></th>\n",
       "      <th>#</th>\n",
       "      <th>user_rating</th>\n",
       "      <th>critic_rating</th>\n",
       "      <th>platform</th>\n",
       "    </tr>\n",
       "  </thead>\n",
       "  <tbody>\n",
       "    <tr>\n",
       "      <th>#</th>\n",
       "      <td>1.000000</td>\n",
       "      <td>-0.365363</td>\n",
       "      <td>-0.893220</td>\n",
       "      <td>-0.085543</td>\n",
       "    </tr>\n",
       "    <tr>\n",
       "      <th>user_rating</th>\n",
       "      <td>-0.365363</td>\n",
       "      <td>1.000000</td>\n",
       "      <td>0.451745</td>\n",
       "      <td>0.074972</td>\n",
       "    </tr>\n",
       "    <tr>\n",
       "      <th>critic_rating</th>\n",
       "      <td>-0.893220</td>\n",
       "      <td>0.451745</td>\n",
       "      <td>1.000000</td>\n",
       "      <td>0.028682</td>\n",
       "    </tr>\n",
       "    <tr>\n",
       "      <th>platform</th>\n",
       "      <td>-0.085543</td>\n",
       "      <td>0.074972</td>\n",
       "      <td>0.028682</td>\n",
       "      <td>1.000000</td>\n",
       "    </tr>\n",
       "  </tbody>\n",
       "</table>\n",
       "</div>"
      ],
      "text/plain": [
       "                      #  user_rating  critic_rating  platform\n",
       "#              1.000000    -0.365363      -0.893220 -0.085543\n",
       "user_rating   -0.365363     1.000000       0.451745  0.074972\n",
       "critic_rating -0.893220     0.451745       1.000000  0.028682\n",
       "platform      -0.085543     0.074972       0.028682  1.000000"
      ]
     },
     "execution_count": 4,
     "metadata": {},
     "output_type": "execute_result"
    }
   ],
   "source": [
    "df.corr()"
   ]
  },
  {
   "cell_type": "markdown",
   "metadata": {},
   "source": [
    "### vizualizácia korelácie"
   ]
  },
  {
   "cell_type": "code",
   "execution_count": 5,
   "metadata": {},
   "outputs": [],
   "source": [
    "import matplotlib.pyplot as plt\n",
    "\n",
    "def plot_corr(df):\n",
    "    corr = df.corr()\n",
    "    fig,ax = plt.subplots(figsize = (5,5))\n",
    "    ax.matshow(corr)\n",
    "    plt.xticks(range(len(corr.columns)),corr.columns)\n",
    "    plt.yticks(range(len(corr.columns)),corr.columns)\n",
    "    \n",
    "    \n",
    "plot_corr(df) "
   ]
  },
  {
   "cell_type": "markdown",
   "metadata": {},
   "source": [
    "### vizualizácia datasetu"
   ]
  },
  {
   "cell_type": "code",
   "execution_count": 6,
   "metadata": {},
   "outputs": [
    {
     "data": {
      "image/png": "[encoded data removed]",
      "text/plain": [
       "<Figure size 1080x720 with 1 Axes>"
      ]
     },
     "metadata": {
      "needs_background": "light"
     },
     "output_type": "display_data"
    },
    {
     "name": "stdout",
     "output_type": "stream",
     "text": [
      "PC = 327 \n",
      "Playstation 4  = 310 \n",
      "Nintendo Switch = 364 \n",
      "Xbox = 186 \n",
      "Celkový počet hier v datasete = 1187 \n"
     ]
    }
   ],
   "source": [
    "# PC = 0\n",
    "# PS4 = 1\n",
    "# Nintendo Switch = 2\n",
    "# Xbox = 3\n",
    "\n",
    "x1 = np.array(df.drop(['title','#'],1))\n",
    "y1 = np.array(df['platform'], dtype ='float')\n",
    "y1.shape = (len(y1),1)\n",
    "c1 =0\n",
    "plt.figure(figsize=(15,10))\n",
    "\n",
    "for i in range(0,len(x1)):\n",
    "    print\n",
    "    if x1[i][2] == 0:\n",
    "        a = plt.scatter(x1[i][0],x1[i][1], s = 50, c = 'black', marker = '.')\n",
    "    elif x1[i][2]== 1:\n",
    "        b = plt.scatter(x1[i][0],x1[i][1], s = 50, c = 'blue',marker = '.')\n",
    "    elif x1[i][2]== 2:\n",
    "        c = plt.scatter(x1[i][0],x1[i][1], s = 50, c = 'red',marker = '.')\n",
    "    elif x1[i][2]== 3:\n",
    "        d = plt.scatter(x1[i][0],x1[i][1], s = 50, c = 'green',marker = '.')             \n",
    "        \n",
    "    c1+=1\n",
    "\n",
    "\n",
    "\n",
    "plt.xlabel(\"user rating\")\n",
    "plt.ylabel(\"critic rating\")\n",
    "plt.title(\"Hodnotenie \")\n",
    "plt.legend((a,b,c,d),('PC','Playstation 4','Nintendo Switch','Xbox'))\n",
    "plt.grid()\n",
    "\n",
    "plt.show()\n",
    "\n",
    "pc = len(df.loc[df['platform'] == 0])\n",
    "ps4 = len(df.loc[df['platform'] == 1])\n",
    "switch = len(df.loc[df['platform'] == 2])\n",
    "xbox = len(df.loc[df['platform'] == 3])\n",
    "\n",
    "\n",
    "print(\"PC = {} \".format(pc))\n",
    "print(\"Playstation 4  = {} \".format(ps4))\n",
    "print(\"Nintendo Switch = {} \".format(switch))\n",
    "print(\"Xbox = {} \".format(xbox))\n",
    "print(\"Celkový počet hier v datasete = {} \".format(len(df)))\n"
   ]
  },
  {
   "cell_type": "markdown",
   "metadata": {},
   "source": [
    "### prevod dát do Numpy polí"
   ]
  },
  {
   "cell_type": "code",
   "execution_count": 7,
   "metadata": {},
   "outputs": [
    {
     "data": {
      "text/plain": [
       "array([[76., 93.],\n",
       "       [48., 93.],\n",
       "       [90., 91.],\n",
       "       ...,\n",
       "       [60., 48.],\n",
       "       [40., 47.],\n",
       "       [11., 45.]])"
      ]
     },
     "execution_count": 7,
     "metadata": {},
     "output_type": "execute_result"
    }
   ],
   "source": [
    "# do X berieme stĺpce user_rating a critic_rating\n",
    "x = np.array(df.drop(['platform', 'title','#'],1))\n",
    "\n",
    "# ako Y nám bude slúžiť stĺpec platform\n",
    "y = np.array(df['platform'], dtype ='float')  \n",
    "\n",
    "y.shape = (len(y),1)  \n",
    "\n",
    "x\n"
   ]
  },
  {
   "cell_type": "markdown",
   "metadata": {},
   "source": [
    "### rozdelenie dát na testovacie a trénovacie dáta "
   ]
  },
  {
   "cell_type": "code",
   "execution_count": 8,
   "metadata": {},
   "outputs": [],
   "source": [
    "#rozdelenie v pomere 7:3 ~ testovacie dáta 70%, trénovacie 30%\n",
    "x_train ,x_test , y_train, y_test = model_selection.train_test_split(x,y, test_size = 0.7)\n"
   ]
  },
  {
   "cell_type": "markdown",
   "metadata": {},
   "source": [
    "### transformácia dát pre lepšie modelovanie"
   ]
  },
  {
   "cell_type": "code",
   "execution_count": 9,
   "metadata": {},
   "outputs": [],
   "source": [
    "x_f_train = preprocessing.scale(x_train)\n",
    "x_f_test = preprocessing.scale(x_test)\n",
    "y_f_train = y_train\n",
    "y_f_test = y_test"
   ]
  },
  {
   "cell_type": "markdown",
   "metadata": {},
   "source": [
    "### použitie DNN modelu pre trénovacie dáta"
   ]
  },
  {
   "cell_type": "code",
   "execution_count": 16,
   "metadata": {},
   "outputs": [],
   "source": [
    "#model Sequential\n",
    "model = tf.keras.models.Sequential()\n",
    "#vstupná vrstva\n",
    "model.add(tf.keras.layers.Flatten())\n",
    "#dve skryté vrstvy po 100 neurónoch s aktivačnou funkciou tanh\n",
    "model.add(tf.keras.layers.Dense(100,activation = tf.nn.tanh))\n",
    "model.add(tf.keras.layers.Dense(100,activation = tf.nn.tanh))\n",
    "#výstupná vrstva so štyrmi neurónmi s aktivačnou funkciou softmax\n",
    "model.add(tf.keras.layers.Dense(4,activation = tf.nn.softmax))\n",
    "\n",
    "#kompilovanie modelu s optimizerom Adamax\n",
    "model.compile(optimizer = tf.optimizers.Adamax(),\n",
    "loss = 'sparse_categorical_crossentropy',\n",
    "metrics=['accuracy'])\n",
    "\n",
    "\n"
   ]
  },
  {
   "cell_type": "markdown",
   "metadata": {},
   "source": [
    "### naplnenie dát do modelu"
   ]
  },
  {
   "cell_type": "code",
   "execution_count": 17,
   "metadata": {
    "scrolled": true
   },
   "outputs": [
    {
     "name": "stdout",
     "output_type": "stream",
     "text": [
      "Train on 284 samples, validate on 72 samples\n",
      "Epoch 1/100\n",
      "284/284 [==============================] - 1s 3ms/sample - loss: 1.4282 - accuracy: 0.2817 - val_loss: 1.3809 - val_accuracy: 0.3333\n",
      "Epoch 2/100\n",
      "284/284 [==============================] - 0s 154us/sample - loss: 1.3724 - accuracy: 0.3275 - val_loss: 1.3610 - val_accuracy: 0.3611\n",
      "Epoch 3/100\n",
      "284/284 [==============================] - 0s 141us/sample - loss: 1.3441 - accuracy: 0.3556 - val_loss: 1.3507 - val_accuracy: 0.3750\n",
      "Epoch 4/100\n",
      "284/284 [==============================] - 0s 138us/sample - loss: 1.3289 - accuracy: 0.3838 - val_loss: 1.3475 - val_accuracy: 0.3889\n",
      "Epoch 5/100\n",
      "284/284 [==============================] - 0s 106us/sample - loss: 1.3186 - accuracy: 0.3768 - val_loss: 1.3463 - val_accuracy: 0.3750\n",
      "Epoch 6/100\n",
      "284/284 [==============================] - 0s 143us/sample - loss: 1.3132 - accuracy: 0.3908 - val_loss: 1.3465 - val_accuracy: 0.3472\n",
      "Epoch 7/100\n",
      "284/284 [==============================] - 0s 117us/sample - loss: 1.3099 - accuracy: 0.4014 - val_loss: 1.3458 - val_accuracy: 0.3472\n",
      "Epoch 8/100\n",
      "284/284 [==============================] - 0s 105us/sample - loss: 1.3075 - accuracy: 0.4155 - val_loss: 1.3457 - val_accuracy: 0.3472\n",
      "Epoch 9/100\n",
      "284/284 [==============================] - 0s 116us/sample - loss: 1.3055 - accuracy: 0.4225 - val_loss: 1.3440 - val_accuracy: 0.3611\n",
      "Epoch 10/100\n",
      "284/284 [==============================] - 0s 102us/sample - loss: 1.3044 - accuracy: 0.4225 - val_loss: 1.3422 - val_accuracy: 0.3750\n",
      "Epoch 11/100\n",
      "284/284 [==============================] - 0s 107us/sample - loss: 1.3022 - accuracy: 0.4155 - val_loss: 1.3404 - val_accuracy: 0.3750\n",
      "Epoch 12/100\n",
      "284/284 [==============================] - 0s 124us/sample - loss: 1.3010 - accuracy: 0.4049 - val_loss: 1.3389 - val_accuracy: 0.3889\n",
      "Epoch 13/100\n",
      "284/284 [==============================] - 0s 116us/sample - loss: 1.2994 - accuracy: 0.4085 - val_loss: 1.3381 - val_accuracy: 0.3889\n",
      "Epoch 14/100\n",
      "284/284 [==============================] - 0s 145us/sample - loss: 1.2980 - accuracy: 0.4085 - val_loss: 1.3366 - val_accuracy: 0.4028\n",
      "Epoch 15/100\n",
      "284/284 [==============================] - 0s 169us/sample - loss: 1.2968 - accuracy: 0.4120 - val_loss: 1.3358 - val_accuracy: 0.4028\n",
      "Epoch 16/100\n",
      "284/284 [==============================] - 0s 113us/sample - loss: 1.2963 - accuracy: 0.4049 - val_loss: 1.3357 - val_accuracy: 0.4028\n",
      "Epoch 17/100\n",
      "284/284 [==============================] - 0s 123us/sample - loss: 1.2950 - accuracy: 0.4014 - val_loss: 1.3359 - val_accuracy: 0.4028\n",
      "Epoch 18/100\n",
      "284/284 [==============================] - 0s 59us/sample - loss: 1.2949 - accuracy: 0.4155 - val_loss: 1.3365 - val_accuracy: 0.3889\n",
      "Epoch 19/100\n",
      "284/284 [==============================] - 0s 100us/sample - loss: 1.2943 - accuracy: 0.4155 - val_loss: 1.3367 - val_accuracy: 0.3889\n",
      "Epoch 20/100\n",
      "284/284 [==============================] - ETA: 0s - loss: 1.2911 - accuracy: 0.42 - 0s 112us/sample - loss: 1.2942 - accuracy: 0.4120 - val_loss: 1.3361 - val_accuracy: 0.4028\n",
      "Epoch 21/100\n",
      "284/284 [==============================] - 0s 152us/sample - loss: 1.2937 - accuracy: 0.4120 - val_loss: 1.3367 - val_accuracy: 0.3889\n",
      "Epoch 22/100\n",
      "284/284 [==============================] - 0s 112us/sample - loss: 1.2933 - accuracy: 0.4120 - val_loss: 1.3367 - val_accuracy: 0.3750\n",
      "Epoch 23/100\n",
      "284/284 [==============================] - 0s 88us/sample - loss: 1.2930 - accuracy: 0.4049 - val_loss: 1.3372 - val_accuracy: 0.3750\n",
      "Epoch 24/100\n",
      "284/284 [==============================] - 0s 116us/sample - loss: 1.2930 - accuracy: 0.4085 - val_loss: 1.3373 - val_accuracy: 0.3750\n",
      "Epoch 25/100\n",
      "284/284 [==============================] - 0s 197us/sample - loss: 1.2927 - accuracy: 0.4085 - val_loss: 1.3374 - val_accuracy: 0.3750\n",
      "Epoch 26/100\n",
      "284/284 [==============================] - 0s 188us/sample - loss: 1.2931 - accuracy: 0.4049 - val_loss: 1.3381 - val_accuracy: 0.3750\n",
      "Epoch 27/100\n",
      "284/284 [==============================] - 0s 90us/sample - loss: 1.2926 - accuracy: 0.4085 - val_loss: 1.3374 - val_accuracy: 0.3750\n",
      "Epoch 28/100\n",
      "284/284 [==============================] - 0s 107us/sample - loss: 1.2924 - accuracy: 0.4120 - val_loss: 1.3370 - val_accuracy: 0.3611\n",
      "Epoch 29/100\n",
      "284/284 [==============================] - 0s 125us/sample - loss: 1.2922 - accuracy: 0.4049 - val_loss: 1.3362 - val_accuracy: 0.3889\n",
      "Epoch 30/100\n",
      "284/284 [==============================] - 0s 75us/sample - loss: 1.2921 - accuracy: 0.4049 - val_loss: 1.3360 - val_accuracy: 0.3889\n",
      "Epoch 31/100\n",
      "284/284 [==============================] - 0s 116us/sample - loss: 1.2924 - accuracy: 0.4014 - val_loss: 1.3354 - val_accuracy: 0.3750\n",
      "Epoch 32/100\n",
      "284/284 [==============================] - 0s 191us/sample - loss: 1.2919 - accuracy: 0.4014 - val_loss: 1.3357 - val_accuracy: 0.3750\n",
      "Epoch 33/100\n",
      "284/284 [==============================] - 0s 107us/sample - loss: 1.2920 - accuracy: 0.4014 - val_loss: 1.3359 - val_accuracy: 0.4028\n",
      "Epoch 34/100\n",
      "284/284 [==============================] - 0s 143us/sample - loss: 1.2917 - accuracy: 0.4014 - val_loss: 1.3366 - val_accuracy: 0.3750\n",
      "Epoch 35/100\n",
      "284/284 [==============================] - 0s 176us/sample - loss: 1.2916 - accuracy: 0.4049 - val_loss: 1.3372 - val_accuracy: 0.3611\n",
      "Epoch 36/100\n",
      "284/284 [==============================] - 0s 106us/sample - loss: 1.2915 - accuracy: 0.4085 - val_loss: 1.3373 - val_accuracy: 0.3750\n",
      "Epoch 37/100\n",
      "284/284 [==============================] - 0s 73us/sample - loss: 1.2913 - accuracy: 0.4049 - val_loss: 1.3370 - val_accuracy: 0.3889\n",
      "Epoch 38/100\n",
      "284/284 [==============================] - 0s 203us/sample - loss: 1.2919 - accuracy: 0.4049 - val_loss: 1.3372 - val_accuracy: 0.3750\n",
      "Epoch 39/100\n",
      "284/284 [==============================] - 0s 148us/sample - loss: 1.2912 - accuracy: 0.4085 - val_loss: 1.3369 - val_accuracy: 0.3750\n",
      "Epoch 40/100\n",
      "284/284 [==============================] - 0s 110us/sample - loss: 1.2912 - accuracy: 0.4049 - val_loss: 1.3362 - val_accuracy: 0.3750\n",
      "Epoch 41/100\n",
      "284/284 [==============================] - 0s 183us/sample - loss: 1.2914 - accuracy: 0.3979 - val_loss: 1.3357 - val_accuracy: 0.4028\n",
      "Epoch 42/100\n",
      "284/284 [==============================] - 0s 202us/sample - loss: 1.2909 - accuracy: 0.4049 - val_loss: 1.3357 - val_accuracy: 0.4028\n",
      "Epoch 43/100\n",
      "284/284 [==============================] - 0s 117us/sample - loss: 1.2911 - accuracy: 0.3979 - val_loss: 1.3352 - val_accuracy: 0.4028\n",
      "Epoch 44/100\n",
      "284/284 [==============================] - 0s 139us/sample - loss: 1.2911 - accuracy: 0.3979 - val_loss: 1.3359 - val_accuracy: 0.4028\n",
      "Epoch 45/100\n",
      "284/284 [==============================] - 0s 111us/sample - loss: 1.2911 - accuracy: 0.3979 - val_loss: 1.3357 - val_accuracy: 0.4028\n",
      "Epoch 46/100\n",
      "284/284 [==============================] - 0s 111us/sample - loss: 1.2908 - accuracy: 0.3979 - val_loss: 1.3361 - val_accuracy: 0.3889\n",
      "Epoch 47/100\n",
      "284/284 [==============================] - 0s 188us/sample - loss: 1.2907 - accuracy: 0.4014 - val_loss: 1.3366 - val_accuracy: 0.3750\n",
      "Epoch 48/100\n",
      "284/284 [==============================] - 0s 128us/sample - loss: 1.2908 - accuracy: 0.4085 - val_loss: 1.3371 - val_accuracy: 0.3750\n",
      "Epoch 49/100\n",
      "284/284 [==============================] - 0s 197us/sample - loss: 1.2904 - accuracy: 0.4049 - val_loss: 1.3374 - val_accuracy: 0.3750\n",
      "Epoch 50/100\n",
      "284/284 [==============================] - 0s 184us/sample - loss: 1.2906 - accuracy: 0.4085 - val_loss: 1.3377 - val_accuracy: 0.3750\n",
      "Epoch 51/100\n",
      "284/284 [==============================] - 0s 99us/sample - loss: 1.2910 - accuracy: 0.4049 - val_loss: 1.3378 - val_accuracy: 0.3611\n",
      "Epoch 52/100\n",
      "284/284 [==============================] - 0s 113us/sample - loss: 1.2904 - accuracy: 0.4085 - val_loss: 1.3374 - val_accuracy: 0.3889\n",
      "Epoch 53/100\n",
      "284/284 [==============================] - 0s 119us/sample - loss: 1.2904 - accuracy: 0.3979 - val_loss: 1.3363 - val_accuracy: 0.3889\n",
      "Epoch 54/100\n",
      "284/284 [==============================] - 0s 85us/sample - loss: 1.2899 - accuracy: 0.3979 - val_loss: 1.3358 - val_accuracy: 0.3889\n",
      "Epoch 55/100\n",
      "284/284 [==============================] - 0s 116us/sample - loss: 1.2900 - accuracy: 0.4014 - val_loss: 1.3357 - val_accuracy: 0.4028\n"
     ]
    },
    {
     "name": "stdout",
     "output_type": "stream",
     "text": [
      "Epoch 56/100\n",
      "284/284 [==============================] - 0s 115us/sample - loss: 1.2905 - accuracy: 0.4049 - val_loss: 1.3350 - val_accuracy: 0.3889\n",
      "Epoch 57/100\n",
      "284/284 [==============================] - 0s 89us/sample - loss: 1.2906 - accuracy: 0.3944 - val_loss: 1.3359 - val_accuracy: 0.3889\n",
      "Epoch 58/100\n",
      "284/284 [==============================] - 0s 159us/sample - loss: 1.2903 - accuracy: 0.3944 - val_loss: 1.3355 - val_accuracy: 0.4028\n",
      "Epoch 59/100\n",
      "284/284 [==============================] - 0s 149us/sample - loss: 1.2902 - accuracy: 0.3979 - val_loss: 1.3366 - val_accuracy: 0.4028\n",
      "Epoch 60/100\n",
      "284/284 [==============================] - 0s 141us/sample - loss: 1.2899 - accuracy: 0.3944 - val_loss: 1.3367 - val_accuracy: 0.4028\n",
      "Epoch 61/100\n",
      "284/284 [==============================] - 0s 171us/sample - loss: 1.2896 - accuracy: 0.3944 - val_loss: 1.3371 - val_accuracy: 0.3889\n",
      "Epoch 62/100\n",
      "284/284 [==============================] - 0s 98us/sample - loss: 1.2894 - accuracy: 0.4049 - val_loss: 1.3368 - val_accuracy: 0.3889\n",
      "Epoch 63/100\n",
      "284/284 [==============================] - 0s 163us/sample - loss: 1.2895 - accuracy: 0.4049 - val_loss: 1.3367 - val_accuracy: 0.4028\n",
      "Epoch 64/100\n",
      "284/284 [==============================] - 0s 197us/sample - loss: 1.2895 - accuracy: 0.3979 - val_loss: 1.3364 - val_accuracy: 0.4028\n",
      "Epoch 65/100\n",
      "284/284 [==============================] - 0s 174us/sample - loss: 1.2891 - accuracy: 0.3944 - val_loss: 1.3369 - val_accuracy: 0.4028\n",
      "Epoch 66/100\n",
      "284/284 [==============================] - 0s 141us/sample - loss: 1.2890 - accuracy: 0.3944 - val_loss: 1.3372 - val_accuracy: 0.4028\n",
      "Epoch 67/100\n",
      "284/284 [==============================] - 0s 124us/sample - loss: 1.2890 - accuracy: 0.4014 - val_loss: 1.3374 - val_accuracy: 0.4028\n",
      "Epoch 68/100\n",
      "284/284 [==============================] - 0s 165us/sample - loss: 1.2890 - accuracy: 0.4014 - val_loss: 1.3367 - val_accuracy: 0.3889\n",
      "Epoch 69/100\n",
      "284/284 [==============================] - 0s 110us/sample - loss: 1.2893 - accuracy: 0.3979 - val_loss: 1.3364 - val_accuracy: 0.3889\n",
      "Epoch 70/100\n",
      "284/284 [==============================] - 0s 144us/sample - loss: 1.2894 - accuracy: 0.3908 - val_loss: 1.3365 - val_accuracy: 0.3889\n",
      "Epoch 71/100\n",
      "284/284 [==============================] - 0s 153us/sample - loss: 1.2887 - accuracy: 0.3979 - val_loss: 1.3362 - val_accuracy: 0.3889\n",
      "Epoch 72/100\n",
      "284/284 [==============================] - 0s 98us/sample - loss: 1.2888 - accuracy: 0.3979 - val_loss: 1.3366 - val_accuracy: 0.3889\n",
      "Epoch 73/100\n",
      "284/284 [==============================] - 0s 119us/sample - loss: 1.2885 - accuracy: 0.3944 - val_loss: 1.3365 - val_accuracy: 0.3889\n",
      "Epoch 74/100\n",
      "284/284 [==============================] - 0s 89us/sample - loss: 1.2885 - accuracy: 0.3908 - val_loss: 1.3368 - val_accuracy: 0.3889\n",
      "Epoch 75/100\n",
      "284/284 [==============================] - 0s 139us/sample - loss: 1.2887 - accuracy: 0.3944 - val_loss: 1.3375 - val_accuracy: 0.4028\n",
      "Epoch 76/100\n",
      "284/284 [==============================] - 0s 120us/sample - loss: 1.2883 - accuracy: 0.3944 - val_loss: 1.3373 - val_accuracy: 0.4028\n",
      "Epoch 77/100\n",
      "284/284 [==============================] - 0s 101us/sample - loss: 1.2884 - accuracy: 0.3944 - val_loss: 1.3362 - val_accuracy: 0.3889\n",
      "Epoch 78/100\n",
      "284/284 [==============================] - 0s 125us/sample - loss: 1.2883 - accuracy: 0.3944 - val_loss: 1.3356 - val_accuracy: 0.4028\n",
      "Epoch 79/100\n",
      "284/284 [==============================] - 0s 163us/sample - loss: 1.2884 - accuracy: 0.3979 - val_loss: 1.3357 - val_accuracy: 0.4028\n",
      "Epoch 80/100\n",
      "284/284 [==============================] - 0s 148us/sample - loss: 1.2881 - accuracy: 0.3979 - val_loss: 1.3363 - val_accuracy: 0.3889\n",
      "Epoch 81/100\n",
      "284/284 [==============================] - 0s 220us/sample - loss: 1.2877 - accuracy: 0.3944 - val_loss: 1.3364 - val_accuracy: 0.3889\n",
      "Epoch 82/100\n",
      "284/284 [==============================] - 0s 151us/sample - loss: 1.2881 - accuracy: 0.3979 - val_loss: 1.3368 - val_accuracy: 0.3889\n",
      "Epoch 83/100\n",
      "284/284 [==============================] - 0s 213us/sample - loss: 1.2876 - accuracy: 0.3944 - val_loss: 1.3368 - val_accuracy: 0.3889\n",
      "Epoch 84/100\n",
      "284/284 [==============================] - 0s 154us/sample - loss: 1.2876 - accuracy: 0.3944 - val_loss: 1.3367 - val_accuracy: 0.3889\n",
      "Epoch 85/100\n",
      "284/284 [==============================] - 0s 145us/sample - loss: 1.2876 - accuracy: 0.3908 - val_loss: 1.3373 - val_accuracy: 0.3889\n",
      "Epoch 86/100\n",
      "284/284 [==============================] - 0s 161us/sample - loss: 1.2875 - accuracy: 0.4014 - val_loss: 1.3376 - val_accuracy: 0.3889\n",
      "Epoch 87/100\n",
      "284/284 [==============================] - 0s 145us/sample - loss: 1.2875 - accuracy: 0.4085 - val_loss: 1.3380 - val_accuracy: 0.3611\n",
      "Epoch 88/100\n",
      "284/284 [==============================] - 0s 147us/sample - loss: 1.2878 - accuracy: 0.4049 - val_loss: 1.3375 - val_accuracy: 0.4028\n",
      "Epoch 89/100\n",
      "284/284 [==============================] - 0s 148us/sample - loss: 1.2874 - accuracy: 0.4014 - val_loss: 1.3367 - val_accuracy: 0.4028\n",
      "Epoch 90/100\n",
      "284/284 [==============================] - 0s 199us/sample - loss: 1.2871 - accuracy: 0.3979 - val_loss: 1.3366 - val_accuracy: 0.4028\n",
      "Epoch 91/100\n",
      "284/284 [==============================] - 0s 209us/sample - loss: 1.2869 - accuracy: 0.4014 - val_loss: 1.3368 - val_accuracy: 0.4028\n",
      "Epoch 92/100\n",
      "284/284 [==============================] - 0s 137us/sample - loss: 1.2869 - accuracy: 0.3944 - val_loss: 1.3367 - val_accuracy: 0.3889\n",
      "Epoch 93/100\n",
      "284/284 [==============================] - 0s 136us/sample - loss: 1.2872 - accuracy: 0.3944 - val_loss: 1.3364 - val_accuracy: 0.3889\n",
      "Epoch 94/100\n",
      "284/284 [==============================] - 0s 146us/sample - loss: 1.2868 - accuracy: 0.3979 - val_loss: 1.3369 - val_accuracy: 0.3889\n",
      "Epoch 95/100\n",
      "284/284 [==============================] - ETA: 0s - loss: 1.3841 - accuracy: 0.29 - 0s 168us/sample - loss: 1.2868 - accuracy: 0.3979 - val_loss: 1.3372 - val_accuracy: 0.3889\n",
      "Epoch 96/100\n",
      "284/284 [==============================] - 0s 128us/sample - loss: 1.2866 - accuracy: 0.3944 - val_loss: 1.3375 - val_accuracy: 0.4028\n",
      "Epoch 97/100\n",
      "284/284 [==============================] - 0s 124us/sample - loss: 1.2863 - accuracy: 0.3979 - val_loss: 1.3376 - val_accuracy: 0.4028\n",
      "Epoch 98/100\n",
      "284/284 [==============================] - 0s 141us/sample - loss: 1.2865 - accuracy: 0.4085 - val_loss: 1.3387 - val_accuracy: 0.3611\n",
      "Epoch 99/100\n",
      "284/284 [==============================] - 0s 175us/sample - loss: 1.2863 - accuracy: 0.4155 - val_loss: 1.3386 - val_accuracy: 0.3611\n",
      "Epoch 100/100\n",
      "284/284 [==============================] - 0s 223us/sample - loss: 1.2861 - accuracy: 0.4155 - val_loss: 1.3385 - val_accuracy: 0.3611\n"
     ]
    }
   ],
   "source": [
    "scores = model.fit(x_f_train, y_f_train, batch_size=100, epochs=100, validation_split=0.2)\n"
   ]
  },
  {
   "cell_type": "markdown",
   "metadata": {},
   "source": [
    "### validácia dát"
   ]
  },
  {
   "cell_type": "code",
   "execution_count": 18,
   "metadata": {},
   "outputs": [
    {
     "name": "stdout",
     "output_type": "stream",
     "text": [
      "Model: \"sequential_4\"\n",
      "_________________________________________________________________\n",
      "Layer (type)                 Output Shape              Param #   \n",
      "=================================================================\n",
      "flatten_4 (Flatten)          multiple                  0         \n",
      "_________________________________________________________________\n",
      "dense_12 (Dense)             multiple                  300       \n",
      "_________________________________________________________________\n",
      "dense_13 (Dense)             multiple                  10100     \n",
      "_________________________________________________________________\n",
      "dense_14 (Dense)             multiple                  404       \n",
      "=================================================================\n",
      "Total params: 10,804\n",
      "Trainable params: 10,804\n",
      "Non-trainable params: 0\n",
      "_________________________________________________________________\n",
      "Presnosť trénovania: 41.55% / Chybovosť trénovania: 128.61% \n"
     ]
    }
   ],
   "source": [
    "model.summary()\n",
    "print(\"Presnosť trénovania: %.2f%% / Chybovosť trénovania: %.2f%% \"  %\n",
    "      (100*scores.history['accuracy'][-1], 100*scores.history['loss'][-1]))"
   ]
  },
  {
   "cell_type": "markdown",
   "metadata": {},
   "source": [
    "### vizualizácia presnosti a chybovosti"
   ]
  },
  {
   "cell_type": "code",
   "execution_count": 19,
   "metadata": {},
   "outputs": [
    {
     "data": {
      "image/png": "[encoded data removed]",
      "text/plain": [
       "<Figure size 432x288 with 1 Axes>"
      ]
     },
     "metadata": {
      "needs_background": "light"
     },
     "output_type": "display_data"
    },
    {
     "data": {
      "image/png": "[encoded data removed]",
      "text/plain": [
       "<Figure size 432x288 with 1 Axes>"
      ]
     },
     "metadata": {
      "needs_background": "light"
     },
     "output_type": "display_data"
    }
   ],
   "source": [
    "plt.plot(scores.history['accuracy'])\n",
    "\n",
    "plt.title('Model presnosti')\n",
    "plt.ylabel('presnost')\n",
    "plt.xlabel('epoch')\n",
    "plt.legend(['train'], loc='center right')\n",
    "plt.grid()\n",
    "plt.show()\n",
    "\n",
    "plt.plot(scores.history['loss'])\n",
    "\n",
    "plt.title('Model chybovosti')\n",
    "plt.ylabel('strata')\n",
    "plt.xlabel('epoch')\n",
    "plt.legend(['train'], loc='center right')\n",
    "plt.grid()\n",
    "plt.show()\n"
   ]
  },
  {
   "cell_type": "markdown",
   "metadata": {},
   "source": [
    "# 2. DNN s použitím Sequential modelu cez Keras API\n"
   ]
  },
  {
   "cell_type": "markdown",
   "metadata": {},
   "source": [
    "### načítanie datasetu"
   ]
  },
  {
   "cell_type": "code",
   "execution_count": 20,
   "metadata": {},
   "outputs": [],
   "source": [
    "COLUMN_NAMES = ['#','title','user_rating','critic_rating','platform']"
   ]
  },
  {
   "cell_type": "code",
   "execution_count": 22,
   "metadata": {},
   "outputs": [
    {
     "data": {
      "text/html": [
       "<div>\n",
       "<style scoped>\n",
       "    .dataframe tbody tr th:only-of-type {\n",
       "        vertical-align: middle;\n",
       "    }\n",
       "\n",
       "    .dataframe tbody tr th {\n",
       "        vertical-align: top;\n",
       "    }\n",
       "\n",
       "    .dataframe thead th {\n",
       "        text-align: right;\n",
       "    }\n",
       "</style>\n",
       "<table border=\"1\" class=\"dataframe\">\n",
       "  <thead>\n",
       "    <tr style=\"text-align: right;\">\n",
       "      <th></th>\n",
       "      <th>#</th>\n",
       "      <th>title</th>\n",
       "      <th>user_rating</th>\n",
       "      <th>critic_rating</th>\n",
       "      <th>platform</th>\n",
       "    </tr>\n",
       "  </thead>\n",
       "  <tbody>\n",
       "    <tr>\n",
       "      <th>0</th>\n",
       "      <td>0</td>\n",
       "      <td>beat saber</td>\n",
       "      <td>76.0</td>\n",
       "      <td>93</td>\n",
       "      <td>0</td>\n",
       "    </tr>\n",
       "    <tr>\n",
       "      <th>1</th>\n",
       "      <td>1</td>\n",
       "      <td>red dead redemption 2</td>\n",
       "      <td>48.0</td>\n",
       "      <td>93</td>\n",
       "      <td>0</td>\n",
       "    </tr>\n",
       "    <tr>\n",
       "      <th>2</th>\n",
       "      <td>2</td>\n",
       "      <td>final fantasy xiv: shadowbringers</td>\n",
       "      <td>90.0</td>\n",
       "      <td>91</td>\n",
       "      <td>0</td>\n",
       "    </tr>\n",
       "    <tr>\n",
       "      <th>3</th>\n",
       "      <td>3</td>\n",
       "      <td>disco elysium</td>\n",
       "      <td>83.0</td>\n",
       "      <td>91</td>\n",
       "      <td>0</td>\n",
       "    </tr>\n",
       "    <tr>\n",
       "      <th>4</th>\n",
       "      <td>4</td>\n",
       "      <td>tetris effect</td>\n",
       "      <td>67.0</td>\n",
       "      <td>90</td>\n",
       "      <td>0</td>\n",
       "    </tr>\n",
       "    <tr>\n",
       "      <th>5</th>\n",
       "      <td>5</td>\n",
       "      <td>resident evil 2</td>\n",
       "      <td>90.0</td>\n",
       "      <td>89</td>\n",
       "      <td>0</td>\n",
       "    </tr>\n",
       "    <tr>\n",
       "      <th>6</th>\n",
       "      <td>6</td>\n",
       "      <td>devil may cry 5</td>\n",
       "      <td>87.0</td>\n",
       "      <td>89</td>\n",
       "      <td>0</td>\n",
       "    </tr>\n",
       "    <tr>\n",
       "      <th>7</th>\n",
       "      <td>7</td>\n",
       "      <td>slay the spire</td>\n",
       "      <td>69.0</td>\n",
       "      <td>89</td>\n",
       "      <td>0</td>\n",
       "    </tr>\n",
       "    <tr>\n",
       "      <th>8</th>\n",
       "      <td>8</td>\n",
       "      <td>asgard's wrath</td>\n",
       "      <td>84.0</td>\n",
       "      <td>88</td>\n",
       "      <td>0</td>\n",
       "    </tr>\n",
       "    <tr>\n",
       "      <th>9</th>\n",
       "      <td>9</td>\n",
       "      <td>sekiro: shadows die twice</td>\n",
       "      <td>78.0</td>\n",
       "      <td>88</td>\n",
       "      <td>0</td>\n",
       "    </tr>\n",
       "  </tbody>\n",
       "</table>\n",
       "</div>"
      ],
      "text/plain": [
       "   #                              title  user_rating  critic_rating  platform\n",
       "0  0                         beat saber         76.0             93         0\n",
       "1  1              red dead redemption 2         48.0             93         0\n",
       "2  2  final fantasy xiv: shadowbringers         90.0             91         0\n",
       "3  3                      disco elysium         83.0             91         0\n",
       "4  4                      tetris effect         67.0             90         0\n",
       "5  5                    resident evil 2         90.0             89         0\n",
       "6  6                    devil may cry 5         87.0             89         0\n",
       "7  7                     slay the spire         69.0             89         0\n",
       "8  8                     asgard's wrath         84.0             88         0\n",
       "9  9          sekiro: shadows die twice         78.0             88         0"
      ]
     },
     "execution_count": 22,
     "metadata": {},
     "output_type": "execute_result"
    }
   ],
   "source": [
    "training_dataset = pd.read_csv('beta.csv', names = COLUMN_NAMES, header=0)\n",
    "training_dataset[:10]\n"
   ]
  },
  {
   "cell_type": "markdown",
   "metadata": {},
   "source": [
    "### vstupné parametre"
   ]
  },
  {
   "cell_type": "code",
   "execution_count": 23,
   "metadata": {},
   "outputs": [],
   "source": [
    "#x = user_rating, critic rating.. y = platform\n",
    "train_x = training_dataset.iloc[:,2:4].values\n",
    "train_y = training_dataset.iloc[:,4].values\n"
   ]
  },
  {
   "cell_type": "code",
   "execution_count": 24,
   "metadata": {},
   "outputs": [
    {
     "name": "stderr",
     "output_type": "stream",
     "text": [
      "Using TensorFlow backend.\n"
     ]
    }
   ],
   "source": [
    "from keras.utils import np_utils\n",
    "from keras.models import Sequential\n",
    "from keras.layers import Dense\n",
    "from keras.utils import to_categorical"
   ]
  },
  {
   "cell_type": "code",
   "execution_count": 25,
   "metadata": {},
   "outputs": [],
   "source": [
    "kategoricka_premenna = np_utils.to_categorical(train_y)"
   ]
  },
  {
   "cell_type": "code",
   "execution_count": 26,
   "metadata": {},
   "outputs": [
    {
     "data": {
      "text/plain": [
       "array([[1., 0., 0., 0.],\n",
       "       [1., 0., 0., 0.],\n",
       "       [1., 0., 0., 0.],\n",
       "       ...,\n",
       "       [0., 0., 0., 1.],\n",
       "       [0., 0., 0., 1.],\n",
       "       [0., 0., 0., 1.]], dtype=float32)"
      ]
     },
     "execution_count": 26,
     "metadata": {},
     "output_type": "execute_result"
    }
   ],
   "source": [
    "kategoricka_premenna"
   ]
  },
  {
   "cell_type": "markdown",
   "metadata": {},
   "source": [
    "### vytvorenie a kompilácia modelu"
   ]
  },
  {
   "cell_type": "code",
   "execution_count": 35,
   "metadata": {},
   "outputs": [],
   "source": [
    "model2 = Sequential()\n",
    "#vstupná vrstva s dvomi parametrami a s 100 neurónmi s aktivačnou funkciou sigmoid\n",
    "model2.add(Dense(100, input_dim=2, activation='sigmoid'))\n",
    "#skryté vrstva po 100 neurónoch s aktivačnou funkciou sigmoid\n",
    "model2.add(Dense(100,activation='sigmoid'))\n",
    "#výstupná vrstva so štyrmi neurónmi\n",
    "model2.add(Dense(4))\n",
    "\n",
    "#kompilovanie modelu pomocou optimizera Adamax\n",
    "model2.compile(loss='mean_squared_error', optimizer='adamax',metrics=['accuracy'])\n"
   ]
  },
  {
   "cell_type": "markdown",
   "metadata": {},
   "source": [
    "### naplnenie dát do modelu"
   ]
  },
  {
   "cell_type": "code",
   "execution_count": 30,
   "metadata": {},
   "outputs": [
    {
     "name": "stdout",
     "output_type": "stream",
     "text": [
      "Train on 949 samples, validate on 238 samples\n",
      "Epoch 1/100\n",
      "949/949 [==============================] - 1s 2ms/step - loss: 0.2561 - accuracy: 0.3762 - val_loss: 0.3085 - val_accuracy: 0.1807\n",
      "Epoch 2/100\n",
      "949/949 [==============================] - 0s 455us/step - loss: 0.1617 - accuracy: 0.4415 - val_loss: 0.3289 - val_accuracy: 0.0672\n",
      "Epoch 3/100\n",
      "949/949 [==============================] - 0s 487us/step - loss: 0.1573 - accuracy: 0.4647 - val_loss: 0.3164 - val_accuracy: 0.1092\n",
      "Epoch 4/100\n",
      "949/949 [==============================] - 0s 470us/step - loss: 0.1566 - accuracy: 0.4742 - val_loss: 0.3088 - val_accuracy: 0.0714\n",
      "Epoch 5/100\n",
      "949/949 [==============================] - 0s 411us/step - loss: 0.1579 - accuracy: 0.4626 - val_loss: 0.3102 - val_accuracy: 0.1429\n",
      "Epoch 6/100\n",
      "949/949 [==============================] - 0s 486us/step - loss: 0.1561 - accuracy: 0.4795 - val_loss: 0.3356 - val_accuracy: 0.0462\n",
      "Epoch 7/100\n",
      "949/949 [==============================] - 0s 468us/step - loss: 0.1580 - accuracy: 0.4626 - val_loss: 0.3381 - val_accuracy: 0.0000e+00\n",
      "Epoch 8/100\n",
      "949/949 [==============================] - 0s 457us/step - loss: 0.1545 - accuracy: 0.4879 - val_loss: 0.3398 - val_accuracy: 0.0000e+00\n",
      "Epoch 9/100\n",
      "949/949 [==============================] - 0s 470us/step - loss: 0.1543 - accuracy: 0.4626 - val_loss: 0.3332 - val_accuracy: 0.0504\n",
      "Epoch 10/100\n",
      "949/949 [==============================] - 0s 494us/step - loss: 0.1562 - accuracy: 0.4689 - val_loss: 0.3110 - val_accuracy: 0.0714\n",
      "Epoch 11/100\n",
      "949/949 [==============================] - 0s 402us/step - loss: 0.1548 - accuracy: 0.4773 - val_loss: 0.3324 - val_accuracy: 0.0000e+00\n",
      "Epoch 12/100\n",
      "949/949 [==============================] - 0s 465us/step - loss: 0.1546 - accuracy: 0.4868 - val_loss: 0.3500 - val_accuracy: 0.0000e+00\n",
      "Epoch 13/100\n",
      "949/949 [==============================] - 0s 408us/step - loss: 0.1535 - accuracy: 0.4826 - val_loss: 0.3277 - val_accuracy: 0.0000e+00\n",
      "Epoch 14/100\n",
      "949/949 [==============================] - 0s 488us/step - loss: 0.1556 - accuracy: 0.4689 - val_loss: 0.3460 - val_accuracy: 0.0000e+00\n",
      "Epoch 15/100\n",
      "949/949 [==============================] - 0s 522us/step - loss: 0.1550 - accuracy: 0.4795 - val_loss: 0.3186 - val_accuracy: 0.0000e+00\n",
      "Epoch 16/100\n",
      "949/949 [==============================] - 2s 2ms/step - loss: 0.1566 - accuracy: 0.4847 - val_loss: 0.3531 - val_accuracy: 0.0504\n",
      "Epoch 17/100\n",
      "949/949 [==============================] - 0s 481us/step - loss: 0.1555 - accuracy: 0.4805 - val_loss: 0.3252 - val_accuracy: 0.0000e+00\n",
      "Epoch 18/100\n",
      "949/949 [==============================] - 0s 455us/step - loss: 0.1559 - accuracy: 0.4647 - val_loss: 0.3514 - val_accuracy: 0.0000e+00\n",
      "Epoch 19/100\n",
      "949/949 [==============================] - 0s 459us/step - loss: 0.1545 - accuracy: 0.4847 - val_loss: 0.3532 - val_accuracy: 0.0000e+00\n",
      "Epoch 20/100\n",
      "949/949 [==============================] - 0s 489us/step - loss: 0.1574 - accuracy: 0.4731 - val_loss: 0.2909 - val_accuracy: 0.1092\n",
      "Epoch 21/100\n",
      "949/949 [==============================] - 0s 476us/step - loss: 0.1631 - accuracy: 0.4521 - val_loss: 0.3469 - val_accuracy: 0.0714\n",
      "Epoch 22/100\n",
      "949/949 [==============================] - 0s 439us/step - loss: 0.1587 - accuracy: 0.4552 - val_loss: 0.3712 - val_accuracy: 0.0000e+00\n",
      "Epoch 23/100\n",
      "949/949 [==============================] - 0s 486us/step - loss: 0.1569 - accuracy: 0.4689 - val_loss: 0.3204 - val_accuracy: 0.0294\n",
      "Epoch 24/100\n",
      "949/949 [==============================] - ETA: 0s - loss: 0.1538 - accuracy: 0.47 - 0s 456us/step - loss: 0.1537 - accuracy: 0.4773 - val_loss: 0.3281 - val_accuracy: 0.0378\n",
      "Epoch 25/100\n",
      "949/949 [==============================] - 0s 446us/step - loss: 0.1550 - accuracy: 0.4910 - val_loss: 0.3640 - val_accuracy: 0.0000e+00\n",
      "Epoch 26/100\n",
      "949/949 [==============================] - 0s 461us/step - loss: 0.1590 - accuracy: 0.4510 - val_loss: 0.3304 - val_accuracy: 0.0000e+00\n",
      "Epoch 27/100\n",
      "949/949 [==============================] - 0s 464us/step - loss: 0.1548 - accuracy: 0.4921 - val_loss: 0.3226 - val_accuracy: 0.0504\n",
      "Epoch 28/100\n",
      "949/949 [==============================] - 0s 389us/step - loss: 0.1548 - accuracy: 0.4921 - val_loss: 0.3340 - val_accuracy: 0.0000e+00\n",
      "Epoch 29/100\n",
      "949/949 [==============================] - 0s 450us/step - loss: 0.1590 - accuracy: 0.4605 - val_loss: 0.3279 - val_accuracy: 0.0630\n",
      "Epoch 30/100\n",
      "949/949 [==============================] - 0s 399us/step - loss: 0.1558 - accuracy: 0.4742 - val_loss: 0.3290 - val_accuracy: 0.0672\n",
      "Epoch 31/100\n",
      "949/949 [==============================] - 0s 432us/step - loss: 0.1596 - accuracy: 0.4584 - val_loss: 0.3768 - val_accuracy: 0.0000e+00\n",
      "Epoch 32/100\n",
      "949/949 [==============================] - 0s 410us/step - loss: 0.1539 - accuracy: 0.4847 - val_loss: 0.3313 - val_accuracy: 0.0672\n",
      "Epoch 33/100\n",
      "949/949 [==============================] - 0s 322us/step - loss: 0.1551 - accuracy: 0.4858 - val_loss: 0.3480 - val_accuracy: 0.0000e+00\n",
      "Epoch 34/100\n",
      "949/949 [==============================] - 0s 410us/step - loss: 0.1595 - accuracy: 0.4689 - val_loss: 0.3032 - val_accuracy: 0.0588\n",
      "Epoch 35/100\n",
      "949/949 [==============================] - 0s 430us/step - loss: 0.1536 - accuracy: 0.4868 - val_loss: 0.3384 - val_accuracy: 0.0000e+00\n",
      "Epoch 36/100\n",
      "949/949 [==============================] - 0s 350us/step - loss: 0.1590 - accuracy: 0.4710 - val_loss: 0.3440 - val_accuracy: 0.0000e+00\n",
      "Epoch 37/100\n",
      "949/949 [==============================] - 0s 460us/step - loss: 0.1535 - accuracy: 0.4868 - val_loss: 0.3588 - val_accuracy: 0.0378\n",
      "Epoch 38/100\n",
      "949/949 [==============================] - 0s 357us/step - loss: 0.1573 - accuracy: 0.4668 - val_loss: 0.3706 - val_accuracy: 0.0000e+00\n",
      "Epoch 39/100\n",
      "949/949 [==============================] - 0s 454us/step - loss: 0.1548 - accuracy: 0.4626 - val_loss: 0.3320 - val_accuracy: 0.0420\n",
      "Epoch 40/100\n",
      "949/949 [==============================] - 0s 438us/step - loss: 0.1532 - accuracy: 0.4879 - val_loss: 0.3507 - val_accuracy: 0.0000e+00\n",
      "Epoch 41/100\n",
      "949/949 [==============================] - 0s 366us/step - loss: 0.1574 - accuracy: 0.4679 - val_loss: 0.3296 - val_accuracy: 0.0588\n",
      "Epoch 42/100\n",
      "949/949 [==============================] - 0s 388us/step - loss: 0.1551 - accuracy: 0.4953 - val_loss: 0.3145 - val_accuracy: 0.0672\n",
      "Epoch 43/100\n",
      "949/949 [==============================] - 0s 360us/step - loss: 0.1565 - accuracy: 0.4679 - val_loss: 0.3543 - val_accuracy: 0.0000e+00\n",
      "Epoch 44/100\n",
      "949/949 [==============================] - 0s 378us/step - loss: 0.1554 - accuracy: 0.4889 - val_loss: 0.3240 - val_accuracy: 0.0084\n",
      "Epoch 45/100\n",
      "949/949 [==============================] - 0s 351us/step - loss: 0.1540 - accuracy: 0.4647 - val_loss: 0.3294 - val_accuracy: 0.0630\n",
      "Epoch 46/100\n",
      "949/949 [==============================] - 0s 388us/step - loss: 0.1543 - accuracy: 0.4763 - val_loss: 0.3461 - val_accuracy: 0.0420\n",
      "Epoch 47/100\n",
      "949/949 [==============================] - 0s 456us/step - loss: 0.1545 - accuracy: 0.4668 - val_loss: 0.3230 - val_accuracy: 0.0168\n",
      "Epoch 48/100\n",
      "949/949 [==============================] - 0s 457us/step - loss: 0.1530 - accuracy: 0.4868 - val_loss: 0.3357 - val_accuracy: 0.0588\n",
      "Epoch 49/100\n",
      "949/949 [==============================] - 0s 383us/step - loss: 0.1555 - accuracy: 0.4900 - val_loss: 0.3089 - val_accuracy: 0.0546\n",
      "Epoch 50/100\n",
      "949/949 [==============================] - 0s 408us/step - loss: 0.1533 - accuracy: 0.4837 - val_loss: 0.3246 - val_accuracy: 0.0630\n",
      "Epoch 51/100\n",
      "949/949 [==============================] - 0s 399us/step - loss: 0.1568 - accuracy: 0.4626 - val_loss: 0.3181 - val_accuracy: 0.0714\n",
      "Epoch 52/100\n",
      "949/949 [==============================] - 0s 340us/step - loss: 0.1555 - accuracy: 0.4615 - val_loss: 0.2942 - val_accuracy: 0.0672\n",
      "Epoch 53/100\n",
      "949/949 [==============================] - 0s 423us/step - loss: 0.1574 - accuracy: 0.4679 - val_loss: 0.3503 - val_accuracy: 0.0000e+00\n",
      "Epoch 54/100\n",
      "949/949 [==============================] - 1s 919us/step - loss: 0.1553 - accuracy: 0.4700 - val_loss: 0.3443 - val_accuracy: 0.0420\n",
      "Epoch 55/100\n",
      "949/949 [==============================] - 0s 470us/step - loss: 0.1540 - accuracy: 0.4689 - val_loss: 0.3143 - val_accuracy: 0.0840\n"
     ]
    },
    {
     "name": "stdout",
     "output_type": "stream",
     "text": [
      "Epoch 56/100\n",
      "949/949 [==============================] - 0s 455us/step - loss: 0.1574 - accuracy: 0.4763 - val_loss: 0.3475 - val_accuracy: 0.0210\n",
      "Epoch 57/100\n",
      "949/949 [==============================] - 0s 423us/step - loss: 0.1554 - accuracy: 0.4615 - val_loss: 0.3211 - val_accuracy: 0.0588\n",
      "Epoch 58/100\n",
      "949/949 [==============================] - 0s 381us/step - loss: 0.1564 - accuracy: 0.4805 - val_loss: 0.3156 - val_accuracy: 0.0756\n",
      "Epoch 59/100\n",
      "949/949 [==============================] - 0s 442us/step - loss: 0.1521 - accuracy: 0.4921 - val_loss: 0.3147 - val_accuracy: 0.0756\n",
      "Epoch 60/100\n",
      "949/949 [==============================] - 0s 385us/step - loss: 0.1553 - accuracy: 0.4910 - val_loss: 0.3335 - val_accuracy: 0.0042\n",
      "Epoch 61/100\n",
      "949/949 [==============================] - 0s 391us/step - loss: 0.1582 - accuracy: 0.4784 - val_loss: 0.3112 - val_accuracy: 0.0630\n",
      "Epoch 62/100\n",
      "949/949 [==============================] - 0s 429us/step - loss: 0.1559 - accuracy: 0.4742 - val_loss: 0.3434 - val_accuracy: 0.0000e+00\n",
      "Epoch 63/100\n",
      "949/949 [==============================] - 0s 392us/step - loss: 0.1543 - accuracy: 0.4700 - val_loss: 0.3388 - val_accuracy: 0.0000e+00\n",
      "Epoch 64/100\n",
      "949/949 [==============================] - 0s 392us/step - loss: 0.1517 - accuracy: 0.4942 - val_loss: 0.3622 - val_accuracy: 0.0000e+00\n",
      "Epoch 65/100\n",
      "949/949 [==============================] - 0s 338us/step - loss: 0.1551 - accuracy: 0.4805 - val_loss: 0.3090 - val_accuracy: 0.1092\n",
      "Epoch 66/100\n",
      "949/949 [==============================] - 0s 401us/step - loss: 0.1554 - accuracy: 0.4795 - val_loss: 0.3263 - val_accuracy: 0.0084\n",
      "Epoch 67/100\n",
      "949/949 [==============================] - 0s 386us/step - loss: 0.1577 - accuracy: 0.4795 - val_loss: 0.3464 - val_accuracy: 0.0000e+00\n",
      "Epoch 68/100\n",
      "949/949 [==============================] - ETA: 0s - loss: 0.1567 - accuracy: 0.46 - 0s 340us/step - loss: 0.1560 - accuracy: 0.4763 - val_loss: 0.3028 - val_accuracy: 0.1176\n",
      "Epoch 69/100\n",
      "949/949 [==============================] - 0s 415us/step - loss: 0.1570 - accuracy: 0.4615 - val_loss: 0.3654 - val_accuracy: 0.0000e+00\n",
      "Epoch 70/100\n",
      "949/949 [==============================] - 0s 417us/step - loss: 0.1547 - accuracy: 0.4742 - val_loss: 0.3307 - val_accuracy: 0.0420\n",
      "Epoch 71/100\n",
      "949/949 [==============================] - 0s 439us/step - loss: 0.1548 - accuracy: 0.4826 - val_loss: 0.3569 - val_accuracy: 0.0000e+00\n",
      "Epoch 72/100\n",
      "949/949 [==============================] - 0s 435us/step - loss: 0.1534 - accuracy: 0.4763 - val_loss: 0.3342 - val_accuracy: 0.0000e+00\n",
      "Epoch 73/100\n",
      "949/949 [==============================] - 0s 407us/step - loss: 0.1519 - accuracy: 0.4826 - val_loss: 0.3240 - val_accuracy: 0.0336\n",
      "Epoch 74/100\n",
      "949/949 [==============================] - 0s 386us/step - loss: 0.1552 - accuracy: 0.4795 - val_loss: 0.3431 - val_accuracy: 0.0000e+00\n",
      "Epoch 75/100\n",
      "949/949 [==============================] - 0s 415us/step - loss: 0.1541 - accuracy: 0.4995 - val_loss: 0.3158 - val_accuracy: 0.0924\n",
      "Epoch 76/100\n",
      "949/949 [==============================] - 0s 390us/step - loss: 0.1556 - accuracy: 0.4647 - val_loss: 0.3520 - val_accuracy: 0.0000e+00\n",
      "Epoch 77/100\n",
      "949/949 [==============================] - 0s 393us/step - loss: 0.1519 - accuracy: 0.4879 - val_loss: 0.3356 - val_accuracy: 0.0000e+00\n",
      "Epoch 78/100\n",
      "949/949 [==============================] - 0s 355us/step - loss: 0.1560 - accuracy: 0.4837 - val_loss: 0.3105 - val_accuracy: 0.0714\n",
      "Epoch 79/100\n",
      "949/949 [==============================] - 0s 445us/step - loss: 0.1570 - accuracy: 0.4626 - val_loss: 0.3243 - val_accuracy: 0.0672\n",
      "Epoch 80/100\n",
      "949/949 [==============================] - 0s 386us/step - loss: 0.1574 - accuracy: 0.4763 - val_loss: 0.3224 - val_accuracy: 0.0420\n",
      "Epoch 81/100\n",
      "949/949 [==============================] - 0s 414us/step - loss: 0.1569 - accuracy: 0.4837 - val_loss: 0.3251 - val_accuracy: 0.0042\n",
      "Epoch 82/100\n",
      "949/949 [==============================] - 0s 414us/step - loss: 0.1560 - accuracy: 0.4763 - val_loss: 0.3260 - val_accuracy: 0.0000e+00\n",
      "Epoch 83/100\n",
      "949/949 [==============================] - 0s 361us/step - loss: 0.1550 - accuracy: 0.4805 - val_loss: 0.3475 - val_accuracy: 0.0000e+00\n",
      "Epoch 84/100\n",
      "949/949 [==============================] - 0s 351us/step - loss: 0.1550 - accuracy: 0.4668 - val_loss: 0.3344 - val_accuracy: 0.0084\n",
      "Epoch 85/100\n",
      "949/949 [==============================] - 0s 489us/step - loss: 0.1530 - accuracy: 0.4784 - val_loss: 0.3362 - val_accuracy: 0.0000e+00\n",
      "Epoch 86/100\n",
      "949/949 [==============================] - 0s 406us/step - loss: 0.1571 - accuracy: 0.4594 - val_loss: 0.3227 - val_accuracy: 0.0630\n",
      "Epoch 87/100\n",
      "949/949 [==============================] - 0s 489us/step - loss: 0.1535 - accuracy: 0.4847 - val_loss: 0.3369 - val_accuracy: 0.0084\n",
      "Epoch 88/100\n",
      "949/949 [==============================] - 0s 444us/step - loss: 0.1563 - accuracy: 0.4710 - val_loss: 0.3218 - val_accuracy: 0.0000e+00\n",
      "Epoch 89/100\n",
      "949/949 [==============================] - 0s 438us/step - loss: 0.1529 - accuracy: 0.4805 - val_loss: 0.3272 - val_accuracy: 0.0672\n",
      "Epoch 90/100\n",
      "949/949 [==============================] - 0s 431us/step - loss: 0.1532 - accuracy: 0.4879 - val_loss: 0.3304 - val_accuracy: 0.0336\n",
      "Epoch 91/100\n",
      "949/949 [==============================] - 0s 434us/step - loss: 0.1582 - accuracy: 0.4542 - val_loss: 0.3174 - val_accuracy: 0.0462\n",
      "Epoch 92/100\n",
      "949/949 [==============================] - 0s 484us/step - loss: 0.1516 - accuracy: 0.4921 - val_loss: 0.3423 - val_accuracy: 0.0000e+00\n",
      "Epoch 93/100\n",
      "949/949 [==============================] - 0s 443us/step - loss: 0.1518 - accuracy: 0.4858 - val_loss: 0.3408 - val_accuracy: 0.0000e+00\n",
      "Epoch 94/100\n",
      "949/949 [==============================] - 0s 437us/step - loss: 0.1535 - accuracy: 0.4889 - val_loss: 0.3295 - val_accuracy: 0.0336\n",
      "Epoch 95/100\n",
      "949/949 [==============================] - 0s 410us/step - loss: 0.1520 - accuracy: 0.4953 - val_loss: 0.3452 - val_accuracy: 0.0000e+00\n",
      "Epoch 96/100\n",
      "949/949 [==============================] - 0s 457us/step - loss: 0.1552 - accuracy: 0.4721 - val_loss: 0.3182 - val_accuracy: 0.0798\n",
      "Epoch 97/100\n",
      "949/949 [==============================] - 0s 450us/step - loss: 0.1554 - accuracy: 0.4784 - val_loss: 0.3415 - val_accuracy: 0.0000e+00\n",
      "Epoch 98/100\n",
      "949/949 [==============================] - 0s 442us/step - loss: 0.1565 - accuracy: 0.4457 - val_loss: 0.3514 - val_accuracy: 0.0000e+00\n",
      "Epoch 99/100\n",
      "949/949 [==============================] - 0s 392us/step - loss: 0.1524 - accuracy: 0.4816 - val_loss: 0.3409 - val_accuracy: 0.0000e+00\n",
      "Epoch 100/100\n",
      "949/949 [==============================] - 0s 441us/step - loss: 0.1512 - accuracy: 0.4963 - val_loss: 0.3314 - val_accuracy: 0.0294\n"
     ]
    }
   ],
   "source": [
    "scores2 = model2.fit(train_x, kategoricka_premenna, epochs = 100, validation_split=0.2)"
   ]
  },
  {
   "cell_type": "markdown",
   "metadata": {},
   "source": [
    "### evaluácia modelu"
   ]
  },
  {
   "cell_type": "code",
   "execution_count": 31,
   "metadata": {},
   "outputs": [
    {
     "name": "stdout",
     "output_type": "stream",
     "text": [
      "1187/1187 [==============================] - 0s 202us/step\n"
     ]
    },
    {
     "data": {
      "text/plain": [
       "[0.1862722183840558, 0.4026958644390106]"
      ]
     },
     "execution_count": 31,
     "metadata": {},
     "output_type": "execute_result"
    }
   ],
   "source": [
    " model2.evaluate(train_x, kategoricka_premenna)"
   ]
  },
  {
   "cell_type": "markdown",
   "metadata": {},
   "source": [
    "### validácia modelu"
   ]
  },
  {
   "cell_type": "code",
   "execution_count": 36,
   "metadata": {},
   "outputs": [
    {
     "name": "stdout",
     "output_type": "stream",
     "text": [
      "Model: \"sequential_4\"\n",
      "_________________________________________________________________\n",
      "Layer (type)                 Output Shape              Param #   \n",
      "=================================================================\n",
      "dense_10 (Dense)             (None, 100)               300       \n",
      "_________________________________________________________________\n",
      "dense_11 (Dense)             (None, 100)               10100     \n",
      "_________________________________________________________________\n",
      "dense_12 (Dense)             (None, 4)                 404       \n",
      "=================================================================\n",
      "Total params: 10,804\n",
      "Trainable params: 10,804\n",
      "Non-trainable params: 0\n",
      "_________________________________________________________________\n",
      "Presnosť trénovania: 49.63% / Chybovosť trénovania: 15.12% \n"
     ]
    }
   ],
   "source": [
    "model2.summary()\n",
    "print(\"Presnosť trénovania: %.2f%% / Chybovosť trénovania: %.2f%% \"  %\n",
    "      (100*scores2.history['accuracy'][-1], 100*scores2.history['loss'][-1]))"
   ]
  },
  {
   "cell_type": "markdown",
   "metadata": {},
   "source": [
    "### vizualizácia presnosti a chybovosti"
   ]
  },
  {
   "cell_type": "code",
   "execution_count": 33,
   "metadata": {},
   "outputs": [
    {
     "data": {
      "image/png": "[encoded data removed]",
      "text/plain": [
       "<Figure size 432x288 with 1 Axes>"
      ]
     },
     "metadata": {
      "needs_background": "light"
     },
     "output_type": "display_data"
    },
    {
     "data": {
      "image/png": "[encoded data removed]",
      "text/plain": [
       "<Figure size 432x288 with 1 Axes>"
      ]
     },
     "metadata": {
      "needs_background": "light"
     },
     "output_type": "display_data"
    }
   ],
   "source": [
    "plt.plot(scores2.history['accuracy'])\n",
    "\n",
    "\n",
    "plt.title('Model presnosti')\n",
    "plt.ylabel('presnost')\n",
    "plt.xlabel('epoch')\n",
    "plt.legend(['train'], loc='center right')\n",
    "plt.grid()\n",
    "plt.show()\n",
    "\n",
    "plt.plot(scores2.history['loss'])\n",
    "\n",
    "\n",
    "plt.title('Model straty')\n",
    "plt.ylabel('strata')\n",
    "plt.xlabel('epoch')\n",
    "plt.legend(['train'], loc='center right')\n",
    "plt.grid()\n",
    "plt.show()"
   ]
  },
  {
   "cell_type": "markdown",
   "metadata": {},
   "source": [
    "### porovnanie vizualizácie presnosti a chybovosti v oboch modeloch"
   ]
  },
  {
   "cell_type": "code",
   "execution_count": 34,
   "metadata": {},
   "outputs": [
    {
     "data": {
      "text/plain": [
       "<matplotlib.legend.Legend at 0x7f4529dd1c18>"
      ]
     },
     "execution_count": 34,
     "metadata": {},
     "output_type": "execute_result"
    },
    {
     "data": {
      "image/png": "[encoded data removed]",
      "text/plain": [
       "<Figure size 432x288 with 1 Axes>"
      ]
     },
     "metadata": {
      "needs_background": "light"
     },
     "output_type": "display_data"
    }
   ],
   "source": [
    "plt.plot(scores.history['accuracy'], label = 'presnosť prvého modelu')\n",
    "plt.plot(scores2.history['accuracy'], label = 'presnosť druhého modelu')\n",
    "plt.plot(scores.history['loss'], label = 'chybovosť prvého modelu')\n",
    "plt.plot(scores2.history['loss'], label = 'chybovosť druhého modelu')\n",
    "plt.grid()\n",
    "plt.legend()"
   ]
  },
  {
   "cell_type": "code",
   "execution_count": null,
   "metadata": {},
   "outputs": [],
   "source": []
  }
 ],
 "metadata": {
  "kernelspec": {
   "display_name": "Python 3.6",
   "language": "python",
   "name": "python36"
  },
  "language_info": {
   "codemirror_mode": {
    "name": "ipython",
    "version": 3
   },
   "file_extension": ".py",
   "mimetype": "text/x-python",
   "name": "python",
   "nbconvert_exporter": "python",
   "pygments_lexer": "ipython3",
   "version": "3.6.6"
  }
 },
 "nbformat": 4,
 "nbformat_minor": 2
}
